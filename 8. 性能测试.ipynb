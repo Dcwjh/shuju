{
 "cells": [
  {
   "cell_type": "markdown",
   "id": "717c094f",
   "metadata": {},
   "source": [
    "# 加载数据集"
   ]
  },
  {
   "cell_type": "code",
   "execution_count": 2,
   "id": "bdd5789e",
   "metadata": {},
   "outputs": [],
   "source": [
    "import time\n",
    "import numpy as np\n",
    "import pandas as pd\n",
    "import seaborn as sns\n",
    "import gc\n",
    "import warnings\n",
    "import lightgbm as lgb\n",
    "\n",
    "from collections import Counter\n",
    "from sklearn import preprocessing\n",
    "import matplotlib.pyplot as plt \n",
    "\n",
    "from sklearn.feature_selection import SelectKBest,chi2,RFE,SelectFromModel\n",
    "from sklearn.preprocessing import MinMaxScaler\n",
    "from sklearn.pipeline import Pipeline\n",
    "from sklearn.impute import SimpleImputer\n",
    "from sklearn.compose import ColumnTransformer\n",
    "from sklearn.preprocessing import OneHotEncoder\n",
    "from sklearn.preprocessing import LabelEncoder\n",
    "from sklearn.preprocessing import StandardScaler\n",
    "from sklearn.model_selection import train_test_split, KFold, StratifiedKFold\n",
    "from sklearn import metrics\n",
    "from sklearn.metrics import f1_score,precision_score,recall_score,roc_auc_score,accuracy_score,roc_curve, plot_roc_curve\n",
    "from contextlib import contextmanager\n",
    "\n",
    "from sklearn.linear_model import LogisticRegression\n",
    "from sklearn.ensemble import RandomForestClassifier\n",
    "from sklearn.metrics import plot_roc_curve\n",
    "from sklearn.model_selection import train_test_split\n",
    "from sklearn import metrics\n",
    "from sklearn.ensemble import RandomForestClassifier\n",
    "from sklearn.svm import SVC\n",
    "from sklearn.naive_bayes import GaussianNB\n",
    "from sklearn.neural_network import MLPClassifier\n",
    "from sklearn.ensemble import AdaBoostClassifier\n",
    "from sklearn.linear_model import LogisticRegression\n",
    "from sklearn.tree import DecisionTreeClassifier\n",
    "from sklearn.neighbors import KNeighborsClassifier\n",
    "\n",
    "plt.rc(\"font\", size=14)\n",
    "warnings.simplefilter(action='ignore')\n",
    "\n",
    "\n",
    "path = 'C:/data/'\n",
    "\n",
    "def reduce_mem_usage(data):\n",
    "    start_mem = data.memory_usage().sum() / 1024**2\n",
    "    \n",
    "    print('Memory usage of dataframe: {:.2f} MB'.format(start_mem))\n",
    "    \n",
    "    for col in data.columns:\n",
    "        col_type = data[col].dtype\n",
    "        \n",
    "        if col_type != object:\n",
    "            c_min = data[col].min()\n",
    "            c_max = data[col].max()\n",
    "            if str(col_type)[:3] == 'int':\n",
    "                if c_min > np.iinfo(np.int8).min and c_max < np.iinfo(np.int8).max:\n",
    "                    data[col] = data[col].astype(np.int8)\n",
    "                elif c_min > np.iinfo(np.int16).min and c_max < np.iinfo(np.int16).max:\n",
    "                    data[col] = data[col].astype(np.int16)\n",
    "                elif c_min > np.iinfo(np.int32).min and c_max < np.iinfo(np.int32).max:\n",
    "                    data[col] = data[col].astype(np.int32)\n",
    "                elif c_min > np.iinfo(np.int64).min and c_max < np.iinfo(np.int64).max:\n",
    "                    data[col] = data[col].astype(np.int64)  \n",
    "            else:\n",
    "                if c_min > np.finfo(np.float16).min and c_max < np.finfo(np.float16).max:\n",
    "                    data[col] = data[col].astype(np.float16)\n",
    "                elif c_min > np.finfo(np.float32).min and c_max < np.finfo(np.float32).max:\n",
    "                    data[col] = data[col].astype(np.float32)\n",
    "                else:\n",
    "                    data[col] = data[col].astype(np.float64)\n",
    "\n",
    "    end_mem = data.memory_usage().sum() / 1024**2\n",
    "\n",
    "    print('Memory usage after optimization: {:.2f} MB'.format(end_mem))\n",
    "    print('Decreased by {:.1f}%'.format(100 * (start_mem - end_mem) / start_mem))\n",
    "    \n",
    "    return data"
   ]
  },
  {
   "cell_type": "code",
   "execution_count": 3,
   "id": "684cde31",
   "metadata": {},
   "outputs": [],
   "source": [
    "data_app = pd.read_csv(\"C:/data/processing_data/data_app.csv\")\n",
    "# data_app = reduce_mem_usage(data_app)"
   ]
  },
  {
   "cell_type": "code",
   "execution_count": 4,
   "id": "13cbdb22",
   "metadata": {},
   "outputs": [
    {
     "data": {
      "text/plain": [
       "(307511, 222)"
      ]
     },
     "execution_count": 4,
     "metadata": {},
     "output_type": "execute_result"
    }
   ],
   "source": [
    "data_app.shape"
   ]
  },
  {
   "cell_type": "code",
   "execution_count": 5,
   "id": "7736402b",
   "metadata": {},
   "outputs": [],
   "source": [
    "all_data = pd.read_csv('C:/data/processing_data/all_data.csv')\n",
    "# all_data = reduce_mem_usage(all_data)"
   ]
  },
  {
   "cell_type": "code",
   "execution_count": 6,
   "id": "615fc162",
   "metadata": {},
   "outputs": [
    {
     "data": {
      "text/plain": [
       "(307511, 462)"
      ]
     },
     "execution_count": 6,
     "metadata": {},
     "output_type": "execute_result"
    }
   ],
   "source": [
    "all_data.shape"
   ]
  },
  {
   "cell_type": "code",
   "execution_count": 7,
   "id": "1346637e",
   "metadata": {},
   "outputs": [],
   "source": [
    "select_data = pd.read_csv(\"C:/data/processing_data/feature_select_combination_data.csv\")\n",
    "# select_data =  reduce_mem_usage(select_data)pd"
   ]
  },
  {
   "cell_type": "code",
   "execution_count": 8,
   "id": "d1dedad8",
   "metadata": {},
   "outputs": [
    {
     "data": {
      "text/plain": [
       "(307511, 141)"
      ]
     },
     "execution_count": 8,
     "metadata": {},
     "output_type": "execute_result"
    }
   ],
   "source": [
    "select_data.shape"
   ]
  },
  {
   "cell_type": "code",
   "execution_count": null,
   "id": "9f7a240a",
   "metadata": {},
   "outputs": [],
   "source": []
  },
  {
   "cell_type": "code",
   "execution_count": null,
   "id": "6a93fbf8",
   "metadata": {},
   "outputs": [],
   "source": []
  },
  {
   "cell_type": "markdown",
   "id": "62e7954c",
   "metadata": {},
   "source": [
    "# 模型定义"
   ]
  },
  {
   "cell_type": "code",
   "execution_count": 30,
   "id": "693c5b94",
   "metadata": {},
   "outputs": [
    {
     "name": "stdout",
     "output_type": "stream",
     "text": [
      "消耗时间： 55.97522974014282\n"
     ]
    }
   ],
   "source": [
    "start1 = time.time()\n",
    "\n",
    "    \n",
    "X_train =  data_app.drop(columns = ['TARGET', 'SK_ID_CURR'])\n",
    "y_train =  np.array(data_app['TARGET'].astype(np.int32)).reshape((-1, ))\n",
    "LR = LogisticRegression(random_state=42, solver='sag',n_jobs=-1)\n",
    "\n",
    "\n",
    "LR = LR.fit(X_train,y_train)\n",
    "       \n",
    "end1 = time.time()\n",
    "print(\"消耗时间：\", end1 - start1)"
   ]
  },
  {
   "cell_type": "code",
   "execution_count": 20,
   "id": "abb85b03",
   "metadata": {},
   "outputs": [],
   "source": [
    "def model_process(data):\n",
    "\n",
    "    \n",
    "    if \"SK_ID_CURR\" in data:\n",
    "        X_train =  data.drop(columns = [ 'SK_ID_CURR'])\n",
    "    if \"TARGET\" in data:\n",
    "         X_train =  data.drop(columns = [ 'TARGET'])\n",
    "    y_train =  np.array(data['TARGET'].astype(np.int32)).reshape((-1, ))\n",
    "    X_train = X_train.to_numpy()\n",
    "    \n",
    "    # LR\n",
    "    LR = LogisticRegression(random_state=42, solver='sag',n_jobs=-1)\n",
    "    \n",
    "    # GaussianNB\n",
    "    gnb = GaussianNB()\n",
    "    \n",
    "    \n",
    "    # DNN\n",
    "    dnn = MLPClassifier(hidden_layer_sizes=(400,),activation='relu',max_iter=300, alpha=0.01,learning_rate_init = 0.01, learning_rate= 'constant')\n",
    "    \n",
    "    # 决策树\n",
    "    clf=DecisionTreeClassifier(random_state=0)\n",
    "    \n",
    "    # 随机森林\n",
    "    rfc=RandomForestClassifier(n_estimators=100)\n",
    "      \n",
    "    # 集成学习 adaBoost\n",
    "    ada = AdaBoostClassifier(n_estimators=100, random_state=0)\n",
    "    \n",
    "    # gbm\n",
    "    gbm = lgb.LGBMClassifier(\n",
    "            boosting_type='gbdt',\n",
    "            num_leaves=47,\n",
    "            max_depth=8,\n",
    "            learning_rate=0.072283,\n",
    "            n_estimators= 750,\n",
    "            objective='binary',\n",
    "            class_weight=None,\n",
    "            min_split_gain=0.0222415,\n",
    "            min_child_weight=60,\n",
    "            min_child_samples=485,\n",
    "            subsample=0.6195545,\n",
    "            subsample_freq=1,\n",
    "            colsample_bytree=0.60017128,\n",
    "            reg_alpha=0.5969339,\n",
    "            reg_lambda=0.7364944,\n",
    "            random_state=42,\n",
    "            n_jobs=-1\n",
    "            \n",
    "        )\n",
    "    \n",
    "    # LR\n",
    "    print(\"=============================逻辑回归================================\")\n",
    "    start1 = time.time()\n",
    "    for i in range(10):\n",
    "        LR = LR.fit(X_train,y_train)\n",
    "    end1 = time.time()\n",
    "    time1 = (end1 - start1)/10\n",
    "    print(\"消耗时间：\", time1)\n",
    "    print(\"=================================================================\")\n",
    "    \n",
    "    \n",
    "    # GaussianNB\n",
    "    print(\"=============================GaussianNB================================\")\n",
    "    start2 = time.time()\n",
    "    for i in range(10):\n",
    "        gnb = gnb.fit(X_train,y_train)\n",
    "    end2 = time.time()\n",
    "    time2 = (end2 - start2)/10\n",
    "    print(\"消耗时间：\", time2)\n",
    "    print(\"=================================================================\")\n",
    "    \n",
    "\n",
    "     # DNN\n",
    "    print(\"=============================DNN================================\")\n",
    "    start3 = time.time()\n",
    "    for i in range(10):\n",
    "        dnn = dnn.fit(X_train,y_train)\n",
    "    end3 = time.time()\n",
    "    time3 = (end3 - start3)/10\n",
    "    print(\"消耗时间：\", time3)\n",
    "    print(\"=================================================================\")\n",
    "    \n",
    "     # Decision Tree\n",
    "    print(\"=============================Decision Tree================================\")\n",
    "    start4 = time.time()\n",
    "    for i in range(10):\n",
    "        clf = clf.fit(X_train,y_train)\n",
    "    end4 = time.time()\n",
    "    time4 = (end4 - start4)/10\n",
    "    print(\"消耗时间：\", time4)\n",
    "    print(\"=================================================================\")\n",
    "    \n",
    "    \n",
    "     # Random Forest\n",
    "    print(\"=============================Random Forest================================\")\n",
    "    start5 = time.time()\n",
    "    for i in range(10):\n",
    "        rfc = rfc.fit(X_train,y_train)\n",
    "    end5 = time.time()\n",
    "    time5 = (end5 - start5)/10\n",
    "    print(\"消耗时间：\", time1)\n",
    "    print(\"=================================================================\")\n",
    "    \n",
    "    \n",
    "    # AdaBoost\n",
    "    print(\"=============================AdaBoost================================\")\n",
    "    start6 = time.time()\n",
    "    for i in range(10):\n",
    "        ada = ada.fit(X_train,y_train)\n",
    "    end6 = time.time()\n",
    "    time6 = (end6 - start6)/10\n",
    "    print(\"消耗时间：\", time6)\n",
    "    print(\"=================================================================\")\n",
    "    \n",
    "    \n",
    "    # gbm\n",
    "    print(\"=============================GBM================================\")\n",
    "    start7 = time.time()\n",
    "    for i in range(10):\n",
    "        gbm = gbm.fit(X_train,y_train)\n",
    "    end7 = time.time()\n",
    "    time7 = (end7 - start7)/10\n",
    "    print(\"消耗时间：\", time7)\n",
    "    print(\"=================================================================\")\n",
    "\n",
    "    "
   ]
  },
  {
   "cell_type": "code",
   "execution_count": null,
   "id": "9b3a667a",
   "metadata": {},
   "outputs": [],
   "source": []
  },
  {
   "cell_type": "code",
   "execution_count": 24,
   "id": "1f658cad",
   "metadata": {},
   "outputs": [],
   "source": []
  },
  {
   "cell_type": "markdown",
   "id": "d82ee154",
   "metadata": {},
   "source": [
    "# 性能比较"
   ]
  },
  {
   "cell_type": "code",
   "execution_count": 25,
   "id": "4b547098",
   "metadata": {},
   "outputs": [
    {
     "name": "stdout",
     "output_type": "stream",
     "text": [
      "=============================逻辑回归================================\n",
      "消耗时间： 50.92211031913757\n",
      "=================================================================\n",
      "=============================GaussianNB================================\n",
      "消耗时间： 1.0448870658874512\n",
      "=================================================================\n",
      "=============================DNN================================\n",
      "消耗时间： 419.798814535141\n",
      "=================================================================\n",
      "=============================Decision Tree================================\n",
      "消耗时间： 30.33236789703369\n",
      "=================================================================\n",
      "=============================Random Forest================================\n",
      "消耗时间： 117.50469017028809\n",
      "=================================================================\n",
      "=============================AdaBoost================================\n",
      "消耗时间： 125.51784896850586\n",
      "=================================================================\n",
      "=============================GBM================================\n",
      "消耗时间： 19.938085556030273\n",
      "=================================================================\n"
     ]
    }
   ],
   "source": [
    "model_process(data_app)"
   ]
  },
  {
   "cell_type": "code",
   "execution_count": 26,
   "id": "9a30b499",
   "metadata": {},
   "outputs": [
    {
     "name": "stdout",
     "output_type": "stream",
     "text": [
      "=============================逻辑回归================================\n",
      "消耗时间： 102.38911294937134\n",
      "=================================================================\n",
      "=============================GaussianNB================================\n",
      "消耗时间： 2.113762378692627\n",
      "=================================================================\n",
      "=============================DNN================================\n",
      "消耗时间： 738.1093595027924\n",
      "=================================================================\n",
      "=============================Decision Tree================================\n",
      "消耗时间： 176.190279006958\n",
      "=================================================================\n",
      "=============================Random Forest================================\n",
      "消耗时间： 369.92705941200256\n",
      "=================================================================\n",
      "=============================AdaBoost================================\n",
      "消耗时间： 461.2255494594574\n",
      "=================================================================\n",
      "=============================GBM================================\n",
      "消耗时间： 61.41725468635559\n",
      "=================================================================\n"
     ]
    }
   ],
   "source": [
    "model_process(all_data)"
   ]
  },
  {
   "cell_type": "code",
   "execution_count": 27,
   "id": "25bc3164",
   "metadata": {},
   "outputs": [
    {
     "name": "stdout",
     "output_type": "stream",
     "text": [
      "=============================逻辑回归================================\n",
      "消耗时间： 34.4935200214386\n",
      "=================================================================\n",
      "=============================GaussianNB================================\n",
      "消耗时间： 0.5989737510681152\n",
      "=================================================================\n",
      "=============================DNN================================\n",
      "消耗时间： 95.23218250274658\n",
      "=================================================================\n",
      "=============================Decision Tree================================\n",
      "消耗时间： 68.33688998222351\n",
      "=================================================================\n",
      "=============================Random Forest================================\n",
      "消耗时间： 262.07338094711304\n",
      "=================================================================\n",
      "=============================AdaBoost================================\n",
      "消耗时间： 214.58651304244995\n",
      "=================================================================\n",
      "=============================GBM================================\n",
      "消耗时间： 26.832836627960205\n",
      "=================================================================\n"
     ]
    }
   ],
   "source": [
    "model_process(select_data)"
   ]
  },
  {
   "cell_type": "code",
   "execution_count": null,
   "id": "ccced108",
   "metadata": {},
   "outputs": [],
   "source": []
  },
  {
   "cell_type": "code",
   "execution_count": null,
   "id": "fd366932",
   "metadata": {},
   "outputs": [],
   "source": []
  },
  {
   "cell_type": "code",
   "execution_count": 28,
   "id": "1a265104",
   "metadata": {},
   "outputs": [],
   "source": [
    "start1 = time.time()\n",
    "\n"
   ]
  },
  {
   "cell_type": "code",
   "execution_count": 29,
   "id": "a3bbdc55",
   "metadata": {},
   "outputs": [],
   "source": [
    "end1 = time.time()\n",
    "time1 = (end1 - start1)/10"
   ]
  },
  {
   "cell_type": "code",
   "execution_count": 30,
   "id": "008f7c7a",
   "metadata": {},
   "outputs": [
    {
     "name": "stdout",
     "output_type": "stream",
     "text": [
      "0.8046187877655029\n"
     ]
    }
   ],
   "source": [
    "print(time1)"
   ]
  },
  {
   "cell_type": "code",
   "execution_count": 62,
   "id": "4d65f7a0",
   "metadata": {},
   "outputs": [],
   "source": [
    "costtime = pd.DataFrame(columns = [\"data_app\", \"all_data\",\"select_data\"])"
   ]
  },
  {
   "cell_type": "code",
   "execution_count": 66,
   "id": "e2c4fc5d",
   "metadata": {},
   "outputs": [],
   "source": [
    "costtime.loc[0,\"data_app\"] = 1"
   ]
  },
  {
   "cell_type": "code",
   "execution_count": 67,
   "id": "736058b3",
   "metadata": {},
   "outputs": [
    {
     "data": {
      "text/html": [
       "<div>\n",
       "<style scoped>\n",
       "    .dataframe tbody tr th:only-of-type {\n",
       "        vertical-align: middle;\n",
       "    }\n",
       "\n",
       "    .dataframe tbody tr th {\n",
       "        vertical-align: top;\n",
       "    }\n",
       "\n",
       "    .dataframe thead th {\n",
       "        text-align: right;\n",
       "    }\n",
       "</style>\n",
       "<table border=\"1\" class=\"dataframe\">\n",
       "  <thead>\n",
       "    <tr style=\"text-align: right;\">\n",
       "      <th></th>\n",
       "      <th>data_app</th>\n",
       "      <th>all_data</th>\n",
       "      <th>select_data</th>\n",
       "    </tr>\n",
       "  </thead>\n",
       "  <tbody>\n",
       "    <tr>\n",
       "      <th>0</th>\n",
       "      <td>1</td>\n",
       "      <td>NaN</td>\n",
       "      <td>NaN</td>\n",
       "    </tr>\n",
       "  </tbody>\n",
       "</table>\n",
       "</div>"
      ],
      "text/plain": [
       "  data_app all_data select_data\n",
       "0        1      NaN         NaN"
      ]
     },
     "execution_count": 67,
     "metadata": {},
     "output_type": "execute_result"
    }
   ],
   "source": [
    "for i in range(10):\n",
    "    "
   ]
  },
  {
   "cell_type": "code",
   "execution_count": null,
   "id": "d80d84fd",
   "metadata": {},
   "outputs": [],
   "source": []
  }
 ],
 "metadata": {
  "kernelspec": {
   "display_name": "Python 3 (ipykernel)",
   "language": "python",
   "name": "python3"
  },
  "language_info": {
   "codemirror_mode": {
    "name": "ipython",
    "version": 3
   },
   "file_extension": ".py",
   "mimetype": "text/x-python",
   "name": "python",
   "nbconvert_exporter": "python",
   "pygments_lexer": "ipython3",
   "version": "3.9.7"
  }
 },
 "nbformat": 4,
 "nbformat_minor": 5
}
