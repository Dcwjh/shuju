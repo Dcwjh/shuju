{
 "cells": [
  {
   "cell_type": "code",
   "execution_count": 20,
   "id": "0b06774f",
   "metadata": {},
   "outputs": [],
   "source": [
    "import numpy as np\n",
    "import pandas as pd\n",
    "import seaborn as sns\n",
    "import gc\n",
    "import warnings\n",
    "import lightgbm as lgb\n",
    "import matplotlib.pyplot as plt\n",
    "import time\n",
    "\n",
    "from collections import Counter\n",
    "from sklearn.preprocessing import MinMaxScaler\n",
    "from sklearn.pipeline import Pipeline\n",
    "from sklearn.impute import SimpleImputer\n",
    "from sklearn.preprocessing import OneHotEncoder\n",
    "from sklearn.preprocessing import LabelEncoder\n",
    "from sklearn.preprocessing import StandardScaler\n",
    "from sklearn.compose import ColumnTransformer\n",
    "\n",
    "\n",
    "from sklearn.model_selection import train_test_split\n",
    "from sklearn import metrics\n",
    "from sklearn import metrics\n",
    "from sklearn.metrics import f1_score,precision_score,recall_score,roc_auc_score,accuracy_score,roc_curve, plot_roc_curve\n",
    "\n",
    "import imblearn\n",
    "from imblearn.under_sampling import RandomUnderSampler\n",
    "from imblearn.over_sampling import RandomOverSampler\n",
    "from imblearn.under_sampling import TomekLinks\n",
    "from imblearn.under_sampling import ClusterCentroids\n",
    "from imblearn.over_sampling import SMOTE\n",
    "from imblearn.combine import SMOTETomek\n",
    "from imblearn.combine import SMOTEENN \n",
    " \n",
    "warnings.filterwarnings('ignore')\n",
    "\n",
    "start = time.time()"
   ]
  },
  {
   "cell_type": "code",
   "execution_count": 21,
   "id": "d62b2334",
   "metadata": {},
   "outputs": [],
   "source": [
    "def reduce_mem_usage(df):\n",
    "    \"\"\" iterate through all the columns of a dataframe and modify the data type\n",
    "        to reduce memory usage.        \n",
    "    \"\"\"\n",
    "    start_mem = df.memory_usage().sum() / 1024**2\n",
    "    print('Memory usage of dataframe is {:.2f} MB'.format(start_mem))\n",
    "    \n",
    "    for col in df.columns:\n",
    "        col_type = df[col].dtype\n",
    "        \n",
    "        if col_type != object:\n",
    "            c_min = df[col].min()\n",
    "            c_max = df[col].max()\n",
    "            if str(col_type)[:3] == 'int':\n",
    "                if c_min > np.iinfo(np.int8).min and c_max < np.iinfo(np.int8).max:\n",
    "                    df[col] = df[col].astype(np.int8)\n",
    "                elif c_min > np.iinfo(np.int16).min and c_max < np.iinfo(np.int16).max:\n",
    "                    df[col] = df[col].astype(np.int16)\n",
    "                elif c_min > np.iinfo(np.int32).min and c_max < np.iinfo(np.int32).max:\n",
    "                    df[col] = df[col].astype(np.int32)\n",
    "                elif c_min > np.iinfo(np.int64).min and c_max < np.iinfo(np.int64).max:\n",
    "                    df[col] = df[col].astype(np.int64)  \n",
    "            else:\n",
    "                if c_min > np.finfo(np.float16).min and c_max < np.finfo(np.float16).max:\n",
    "                    df[col] = df[col].astype(np.float16)\n",
    "                elif c_min > np.finfo(np.float32).min and c_max < np.finfo(np.float32).max:\n",
    "                    df[col] = df[col].astype(np.float32)\n",
    "                else:\n",
    "                    df[col] = df[col].astype(np.float64)\n",
    "       \n",
    "\n",
    "    end_mem = df.memory_usage().sum() / 1024**2\n",
    "    print('Memory usage after optimization is: {:.2f} MB'.format(end_mem))\n",
    "    print('Decreased by {:.1f}%'.format(100 * (start_mem - end_mem) / start_mem))\n",
    "    \n",
    "    return df"
   ]
  },
  {
   "cell_type": "code",
   "execution_count": 22,
   "id": "a58fb38f",
   "metadata": {},
   "outputs": [
    {
     "name": "stdout",
     "output_type": "stream",
     "text": [
      "Memory usage of dataframe is 286.23 MB\n",
      "Memory usage after optimization is: 92.38 MB\n",
      "Decreased by 67.7%\n"
     ]
    }
   ],
   "source": [
    "application = pd.read_csv('appIication_train.csv')\n",
    "data = reduce_mem_usage(application)"
   ]
  },
  {
   "cell_type": "code",
   "execution_count": 23,
   "id": "7bd2329d",
   "metadata": {},
   "outputs": [],
   "source": [
    "def split_train(data,test_ratio):\n",
    "   #  data = data.iloc[0:20000,:]\n",
    "    shuffled_indices=np.random.permutation(len(data))\n",
    "    test_set_size=int(len(data)*test_ratio)\n",
    "    test_indices =shuffled_indices[:test_set_size]\n",
    "    train_indices=shuffled_indices[test_set_size:]\n",
    "    return data.iloc[train_indices],data.iloc[test_indices]"
   ]
  },
  {
   "cell_type": "code",
   "execution_count": 24,
   "id": "15b41054",
   "metadata": {},
   "outputs": [
    {
     "name": "stdout",
     "output_type": "stream",
     "text": [
      "(246009, 122)\n",
      "(61502, 122)\n"
     ]
    }
   ],
   "source": [
    "train_app, test_app = split_train(data, 0.2)\n",
    "print(train_app.shape)\n",
    "print(test_app.shape)\n",
    "all_data_x = data.drop(['TARGET','SK_ID_CURR'],axis = 1)\n",
    "all_data_y = data.loc[:,['TARGET']].values\n",
    "\n",
    "train_app_x = train_app.drop(['TARGET','SK_ID_CURR'],axis = 1)\n",
    "train_app_y = train_app.loc[:,['TARGET']].values\n",
    "\n",
    "test_app_x = test_app.drop(['TARGET','SK_ID_CURR'],axis = 1)\n",
    "test_app_y = test_app['TARGET'].values"
   ]
  },
  {
   "cell_type": "code",
   "execution_count": 25,
   "id": "bf3854f7",
   "metadata": {},
   "outputs": [
    {
     "data": {
      "text/plain": [
       "ColumnTransformer(transformers=[('num',\n",
       "                                 Pipeline(steps=[('imputer', SimpleImputer()),\n",
       "                                                 ('scaler', StandardScaler())]),\n",
       "                                 ['CNT_CHILDREN', 'AMT_INCOME_TOTAL',\n",
       "                                  'AMT_CREDIT', 'AMT_ANNUITY',\n",
       "                                  'AMT_GOODS_PRICE',\n",
       "                                  'REGION_POPULATION_RELATIVE', 'DAYS_BIRTH',\n",
       "                                  'DAYS_EMPLOYED', 'DAYS_REGISTRATION',\n",
       "                                  'DAYS_ID_PUBLISH', 'OWN_CAR_AGE',\n",
       "                                  'FLAG_MOBIL', 'FLAG_EMP_PHONE',\n",
       "                                  'FLAG_WORK_PHONE'...\n",
       "                                                                strategy='constant')),\n",
       "                                                 ('onehot', OneHotEncoder())]),\n",
       "                                 ['NAME_CONTRACT_TYPE', 'CODE_GENDER',\n",
       "                                  'FLAG_OWN_CAR', 'FLAG_OWN_REALTY',\n",
       "                                  'NAME_TYPE_SUITE', 'NAME_INCOME_TYPE',\n",
       "                                  'NAME_EDUCATION_TYPE', 'NAME_FAMILY_STATUS',\n",
       "                                  'NAME_HOUSING_TYPE', 'OCCUPATION_TYPE',\n",
       "                                  'WEEKDAY_APPR_PROCESS_START',\n",
       "                                  'ORGANIZATION_TYPE', 'FONDKAPREMONT_MODE',\n",
       "                                  'HOUSETYPE_MODE', 'WALLSMATERIAL_MODE',\n",
       "                                  'EMERGENCYSTATE_MODE'])])"
      ]
     },
     "execution_count": 25,
     "metadata": {},
     "output_type": "execute_result"
    }
   ],
   "source": [
    "types = np.array([z for z in all_data_x.dtypes])\n",
    "all_columns = all_data_x.columns.values                \n",
    "is_num = types != 'object'  \n",
    "# is_num = np.array([str(x)[:1] != 'c' for x in types]) \n",
    "num_features = all_columns[is_num].tolist()         \n",
    "cat_features = all_columns[~is_num].tolist() \n",
    "features = num_features + cat_features\n",
    "Pipe_num = Pipeline(\n",
    "    steps=[\n",
    "    ('imputer', SimpleImputer(strategy = 'mean')),        # tried median, mean, constant strategies\n",
    "    ('scaler', StandardScaler()) ])\n",
    "\n",
    "Pipe_cat = Pipeline(\n",
    "    steps=[\n",
    "    ('imputer', SimpleImputer(strategy = 'constant', fill_value = 'Unknown')),\n",
    "    ('onehot', OneHotEncoder())        ])\n",
    "\n",
    "preprocessor = ColumnTransformer(\n",
    "    transformers = [\n",
    "        ('num', Pipe_num, num_features),\n",
    "        ('cat', Pipe_cat, cat_features)])\n",
    "    \n",
    "preprocessor.fit(data[features])"
   ]
  },
  {
   "cell_type": "code",
   "execution_count": 26,
   "id": "f68d03ef",
   "metadata": {},
   "outputs": [],
   "source": [
    "X_test = preprocessor.transform(test_app_x[features])\n",
    "y_test = test_app_y"
   ]
  },
  {
   "cell_type": "code",
   "execution_count": 27,
   "id": "71c9bb87",
   "metadata": {},
   "outputs": [],
   "source": [
    "def lightgbm(X_train, y_train,X_test,y_test):\n",
    "    gbm = lgb.LGBMClassifier()\n",
    "    \n",
    "    print(\"训练开始\")\n",
    "    gbm = gbm.fit(X_train,y_train.ravel())\n",
    "    print(\"训练结束\")\n",
    "    y_pred = gbm.predict(X_test)\n",
    "\n",
    "    print(\"训练集精确度:{%.4f}    \"%gbm.score(X_train, y_train), \n",
    "        \"测试集精确度:{%.4f}    \\n\"%gbm.score(X_test, y_test))\n",
    "    #print(\"predict 训练集auc:{%.3f} \"%metrics.roc_auc_score(y_train, clf.predict(X_train)), \"训练集auc:{%.3f}\\n\"%metrics.roc_auc_score(y_test, clf.predict(X_test)))\n",
    "    print(\"predict_proba 训练集auc:{%.4f} \"%metrics.roc_auc_score(y_train, gbm.predict_proba(X_train)[:,1]), \n",
    "                        \"训练集auc:{%.4f}\\n\"%metrics.roc_auc_score(y_test, gbm.predict_proba(X_test)[:,1]))\n",
    "\n",
    "    print(\"classification_report:\")\n",
    "    print(metrics.classification_report(y_test, y_pred))\n",
    "    \n",
    "    fpr,tpr,thresholds = roc_curve(y_test,gbm.predict_proba(X_test)[:,1])\n",
    "    ks = max(tpr-fpr)\n",
    "    print(\"gbm 的KS:{%.4f}\"%ks)\n",
    "    return gbm"
   ]
  },
  {
   "cell_type": "markdown",
   "id": "19525a00",
   "metadata": {},
   "source": [
    "# 元数据"
   ]
  },
  {
   "cell_type": "code",
   "execution_count": 28,
   "id": "218ac6e3",
   "metadata": {},
   "outputs": [
    {
     "name": "stdout",
     "output_type": "stream",
     "text": [
      "(246009, 250)\n"
     ]
    }
   ],
   "source": [
    "X_train = preprocessor.transform(train_app_x[features])\n",
    "y_train = train_app_y\n",
    "print(X_train.shape)"
   ]
  },
  {
   "cell_type": "code",
   "execution_count": 29,
   "id": "0ffd1388",
   "metadata": {},
   "outputs": [
    {
     "name": "stdout",
     "output_type": "stream",
     "text": [
      "训练开始\n",
      "训练结束\n",
      "训练集精确度:{0.9197}     测试集精确度:{0.9189}    \n",
      "\n",
      "predict_proba 训练集auc:{0.7757}  训练集auc:{0.7229}\n",
      "\n",
      "classification_report:\n",
      "              precision    recall  f1-score   support\n",
      "\n",
      "           0       0.92      1.00      0.96     56523\n",
      "           1       0.41      0.00      0.01      4979\n",
      "\n",
      "    accuracy                           0.92     61502\n",
      "   macro avg       0.67      0.50      0.48     61502\n",
      "weighted avg       0.88      0.92      0.88     61502\n",
      "\n",
      "gbm 的KS:{0.3285}\n"
     ]
    }
   ],
   "source": [
    "gbm1 = lightgbm(X_train, y_train,X_test,y_test)"
   ]
  },
  {
   "cell_type": "markdown",
   "id": "174e1399",
   "metadata": {},
   "source": [
    "# 随机下采样"
   ]
  },
  {
   "cell_type": "code",
   "execution_count": 30,
   "id": "3967f82e",
   "metadata": {},
   "outputs": [
    {
     "name": "stdout",
     "output_type": "stream",
     "text": [
      "count_class_0: 226163\n",
      "count_class_1: 19846\n",
      "Random under-sampling:\n",
      "0    19846\n",
      "1    19846\n",
      "Name: TARGET, dtype: int64\n"
     ]
    }
   ],
   "source": [
    "# Class count\n",
    "count_class_0, count_class_1 = train_app.TARGET.value_counts()\n",
    "print('count_class_0:',count_class_0)\n",
    "print('count_class_1:',count_class_1)\n",
    "\n",
    "# Divide by class 分开样本\n",
    "df_class_0 = train_app[train_app['TARGET'] == 0]\n",
    "df_class_1 = train_app[train_app['TARGET'] == 1]\n",
    "\n",
    "# 下采样，采样个数为count_class_1: 24825\n",
    "df_class_0_under = df_class_0.sample(count_class_1)\n",
    "# 采样过后，进行合并\n",
    "df_test_under = pd.concat([df_class_0_under, df_class_1], axis=0)\n",
    "print('Random under-sampling:')\n",
    "print(df_test_under.TARGET.value_counts())"
   ]
  },
  {
   "cell_type": "code",
   "execution_count": 31,
   "id": "1e99c29c",
   "metadata": {},
   "outputs": [],
   "source": [
    "X_train = df_test_under.drop(['TARGET', 'SK_ID_CURR'], axis = 1)\n",
    "X_train = preprocessor.transform(X_train[features])\n",
    "y_train = df_test_under['TARGET'].values"
   ]
  },
  {
   "cell_type": "code",
   "execution_count": 32,
   "id": "94a776d6",
   "metadata": {},
   "outputs": [
    {
     "name": "stdout",
     "output_type": "stream",
     "text": [
      "训练开始\n",
      "训练结束\n",
      "训练集精确度:{0.7199}     测试集精确度:{0.6711}    \n",
      "\n",
      "predict_proba 训练集auc:{0.7988}  训练集auc:{0.7206}\n",
      "\n",
      "classification_report:\n",
      "              precision    recall  f1-score   support\n",
      "\n",
      "           0       0.96      0.67      0.79     56523\n",
      "           1       0.15      0.65      0.24      4979\n",
      "\n",
      "    accuracy                           0.67     61502\n",
      "   macro avg       0.55      0.66      0.52     61502\n",
      "weighted avg       0.89      0.67      0.75     61502\n",
      "\n",
      "gbm 的KS:{0.3258}\n"
     ]
    }
   ],
   "source": [
    "gbm2 = lightgbm(X_train, y_train,X_test,y_test)"
   ]
  },
  {
   "cell_type": "code",
   "execution_count": null,
   "id": "7d51662e",
   "metadata": {},
   "outputs": [],
   "source": []
  },
  {
   "cell_type": "markdown",
   "id": "d915f311",
   "metadata": {},
   "source": [
    "# 下采样：Tomek links"
   ]
  },
  {
   "cell_type": "code",
   "execution_count": 33,
   "id": "bece7f57",
   "metadata": {},
   "outputs": [
    {
     "data": {
      "text/plain": [
       "TomekLinks(n_jobs=-1)"
      ]
     },
     "execution_count": 33,
     "metadata": {},
     "output_type": "execute_result"
    }
   ],
   "source": [
    "X_train = preprocessor.transform(train_app_x[features])\n",
    "y_train = train_app_y\n",
    "\n",
    "tl = TomekLinks(sampling_strategy='auto', n_jobs = -1)\n",
    "tl.fit(X_train, y_train)\n",
    "# X_train, y_train = tl.fit_resample(X_train, y_train)  # 生成样本时间太久"
   ]
  },
  {
   "cell_type": "code",
   "execution_count": 34,
   "id": "2aa73e56",
   "metadata": {},
   "outputs": [],
   "source": [
    "train_tl = train_app.iloc[0:100000, :]\n",
    "X_train = train_tl.drop(['TARGET','SK_ID_CURR'],axis = 1)\n",
    "X_train = preprocessor.transform(X_train[features])\n",
    "y_train = train_tl.loc[:,['TARGET']].values\n",
    "X_train, y_train = tl.fit_resample(X_train, y_train)"
   ]
  },
  {
   "cell_type": "code",
   "execution_count": 35,
   "id": "fa6a8bcf",
   "metadata": {},
   "outputs": [
    {
     "name": "stdout",
     "output_type": "stream",
     "text": [
      "Tomek links dataset shape Counter({0: 90065, 1: 7944})\n"
     ]
    }
   ],
   "source": [
    "print('Tomek links dataset shape %s' % Counter(y_train.tolist()))"
   ]
  },
  {
   "cell_type": "code",
   "execution_count": 36,
   "id": "28a36333",
   "metadata": {},
   "outputs": [
    {
     "name": "stdout",
     "output_type": "stream",
     "text": [
      "训练开始\n",
      "训练结束\n",
      "训练集精确度:{0.9206}     测试集精确度:{0.9190}    \n",
      "\n",
      "predict_proba 训练集auc:{0.8349}  训练集auc:{0.7160}\n",
      "\n",
      "classification_report:\n",
      "              precision    recall  f1-score   support\n",
      "\n",
      "           0       0.92      1.00      0.96     56523\n",
      "           1       0.48      0.01      0.02      4979\n",
      "\n",
      "    accuracy                           0.92     61502\n",
      "   macro avg       0.70      0.50      0.49     61502\n",
      "weighted avg       0.88      0.92      0.88     61502\n",
      "\n",
      "gbm 的KS:{0.3196}\n"
     ]
    }
   ],
   "source": [
    "gbm3 = lightgbm(X_train, y_train,X_test,y_test)"
   ]
  },
  {
   "cell_type": "markdown",
   "id": "028393da",
   "metadata": {},
   "source": [
    "# CondensedNearestNeighbour: 下采样 采样速度慢"
   ]
  },
  {
   "cell_type": "code",
   "execution_count": 63,
   "id": "0954fb79",
   "metadata": {},
   "outputs": [
    {
     "name": "stdout",
     "output_type": "stream",
     "text": [
      "Tomek links dataset shape Counter({0: 2439, 1: 823})\n"
     ]
    }
   ],
   "source": [
    "from imblearn.under_sampling import CondensedNearestNeighbour \n",
    "\n",
    "X_train = preprocessor.transform(train_app_x[features])\n",
    "y_train = train_app_y\n",
    "\n",
    "\n",
    "cnn = CondensedNearestNeighbour(random_state=42, n_jobs = -1)\n",
    "cnn.fit(X_train, y_train)\n",
    "\n",
    "train_cnn = train_app.iloc[0:10000, :]\n",
    "train_cnn_x = train_cnn.drop(['TARGET','SK_ID_CURR'],axis = 1)\n",
    "train_cnn_y = train_cnn.loc[:,['TARGET']].values\n",
    "\n",
    "# train_cnn_x = train_app.drop(['TARGET','SK_ID_CURR'],axis = 1)\n",
    "# train_cnn_y = train_app.loc[:,['TARGET']].values\n",
    "\n",
    "\n",
    "X_train_cnn = preprocessor.transform(train_cnn_x[features])\n",
    "y_train_cnn = train_cnn_y\n",
    "\n",
    "X_train, y_train = cnn.fit_resample(X_train_cnn, y_train_cnn)\n",
    "test = y_train.reshape(y_train.shape[0],)\n",
    "\n",
    "print('Tomek links dataset shape %s' % Counter(test))"
   ]
  },
  {
   "cell_type": "code",
   "execution_count": 64,
   "id": "7d82fafe",
   "metadata": {},
   "outputs": [
    {
     "name": "stdout",
     "output_type": "stream",
     "text": [
      "训练开始\n",
      "训练结束\n",
      "训练集精确度:{0.9739}     测试集精确度:{0.8897}    \n",
      "\n",
      "predict_proba 训练集auc:{0.9994}  训练集auc:{0.6487}\n",
      "\n",
      "classification_report:\n",
      "              precision    recall  f1-score   support\n",
      "\n",
      "           0       0.93      0.96      0.94     56523\n",
      "           1       0.20      0.12      0.15      4979\n",
      "\n",
      "    accuracy                           0.89     61502\n",
      "   macro avg       0.56      0.54      0.55     61502\n",
      "weighted avg       0.87      0.89      0.88     61502\n",
      "\n",
      "gbm 的KS:{0.2196}\n"
     ]
    }
   ],
   "source": [
    "gbm4 = lightgbm(X_train, y_train,X_test,y_test)"
   ]
  },
  {
   "cell_type": "markdown",
   "id": "a7b11861",
   "metadata": {},
   "source": [
    "# EditedNearestNeighbours"
   ]
  },
  {
   "cell_type": "code",
   "execution_count": 40,
   "id": "e0f1c533",
   "metadata": {},
   "outputs": [
    {
     "name": "stdout",
     "output_type": "stream",
     "text": [
      "Tomek links dataset shape Counter({0: 12442, 1: 1626})\n"
     ]
    }
   ],
   "source": [
    "from imblearn.under_sampling import EditedNearestNeighbours \n",
    "\n",
    "X_train = preprocessor.transform(train_app_x[features])\n",
    "y_train = train_app_y\n",
    "\n",
    "\n",
    "enn = EditedNearestNeighbours(n_neighbors=5, n_jobs = -1)\n",
    "enn.fit(X_train, y_train)\n",
    "\n",
    "train_enn = train_app.iloc[0:20000, :]\n",
    "train_enn_x = train_enn.drop(['TARGET','SK_ID_CURR'],axis = 1)\n",
    "train_enn_y = train_enn.loc[:,['TARGET']].values\n",
    "X_train_enn = preprocessor.transform(train_enn_x[features])\n",
    "y_train_enn = train_enn_y\n",
    "\n",
    "X_enn, y_enn = enn.fit_resample(X_train_enn, y_train_enn)\n",
    "test = y_enn.reshape(y_enn.shape[0],)\n",
    "\n",
    "print('Tomek links dataset shape %s' % Counter(test))"
   ]
  },
  {
   "cell_type": "code",
   "execution_count": 42,
   "id": "246daee4",
   "metadata": {},
   "outputs": [
    {
     "name": "stdout",
     "output_type": "stream",
     "text": [
      "训练开始\n",
      "训练结束\n",
      "训练集精确度:{0.9267}     测试集精确度:{0.9061}    \n",
      "\n",
      "predict_proba 训练集auc:{0.9761}  训练集auc:{0.6958}\n",
      "\n",
      "classification_report:\n",
      "              precision    recall  f1-score   support\n",
      "\n",
      "           0       0.92      0.98      0.95     56523\n",
      "           1       0.27      0.09      0.14      4979\n",
      "\n",
      "    accuracy                           0.91     61502\n",
      "   macro avg       0.60      0.54      0.54     61502\n",
      "weighted avg       0.87      0.91      0.88     61502\n",
      "\n",
      "gbm 的KS:{0.2909}\n"
     ]
    }
   ],
   "source": [
    "gbm5 = lightgbm(X_enn, y_enn,X_test,y_test)"
   ]
  },
  {
   "cell_type": "markdown",
   "id": "4b4113be",
   "metadata": {},
   "source": [
    "# 随机过采样"
   ]
  },
  {
   "cell_type": "code",
   "execution_count": 43,
   "id": "098f2770",
   "metadata": {},
   "outputs": [
    {
     "name": "stdout",
     "output_type": "stream",
     "text": [
      "Original dataset shape Counter({0: 226163, 1: 19846})\n",
      "Over-resample dataset shape Counter({1: 226163, 0: 226163})\n"
     ]
    }
   ],
   "source": [
    "X_train = preprocessor.transform(train_app_x[features])\n",
    "y_train = train_app_y\n",
    "\n",
    "ros = RandomOverSampler(random_state=42)\n",
    "ros.fit(X_train, y_train)\n",
    "test = y_train.reshape(y_train.shape[0],)\n",
    "\n",
    "print('Original dataset shape %s' % Counter(test))\n",
    "\n",
    "X_train, y_train = ros.fit_resample(X_train, y_train)\n",
    "\n",
    "test = y_train.reshape(y_train.shape[0],)\n",
    "\n",
    "print('Over-resample dataset shape %s' % Counter(test))"
   ]
  },
  {
   "cell_type": "code",
   "execution_count": 44,
   "id": "978976cb",
   "metadata": {},
   "outputs": [
    {
     "name": "stdout",
     "output_type": "stream",
     "text": [
      "训练开始\n",
      "训练结束\n",
      "训练集精确度:{0.6977}     测试集精确度:{0.6905}    \n",
      "\n",
      "predict_proba 训练集auc:{0.7728}  训练集auc:{0.7246}\n",
      "\n",
      "classification_report:\n",
      "              precision    recall  f1-score   support\n",
      "\n",
      "           0       0.96      0.70      0.81     56523\n",
      "           1       0.15      0.63      0.25      4979\n",
      "\n",
      "    accuracy                           0.69     61502\n",
      "   macro avg       0.56      0.66      0.53     61502\n",
      "weighted avg       0.89      0.69      0.76     61502\n",
      "\n",
      "gbm 的KS:{0.3374}\n"
     ]
    }
   ],
   "source": [
    "gbm6 = lightgbm(X_train, y_train, X_test, y_test)"
   ]
  },
  {
   "cell_type": "markdown",
   "id": "2a4db1ef",
   "metadata": {},
   "source": [
    "# SMOTE 过采样"
   ]
  },
  {
   "cell_type": "code",
   "execution_count": 45,
   "id": "8bab3915",
   "metadata": {},
   "outputs": [
    {
     "name": "stdout",
     "output_type": "stream",
     "text": [
      "Original dataset shape Counter({0: 226163, 1: 19846})\n",
      "SMOTE dataset shape Counter({1: 226163, 0: 226163})\n"
     ]
    }
   ],
   "source": [
    "X_train = preprocessor.transform(train_app_x[features])\n",
    "y_train = train_app_y\n",
    "X_test = preprocessor.transform(test_app_x[features])\n",
    "y_test = test_app_y\n",
    "\n",
    "sm = SMOTE(random_state=42)\n",
    "sm.fit(X_train, y_train)\n",
    "test = y_train.reshape(y_train.shape[0],)\n",
    "\n",
    "print('Original dataset shape %s' % Counter(test))\n",
    "\n",
    "X_train, y_train = sm.fit_resample(X_train, y_train)\n",
    "\n",
    "test = y_train.reshape(y_train.shape[0],)\n",
    "\n",
    "print('SMOTE dataset shape %s' % Counter(test))"
   ]
  },
  {
   "cell_type": "code",
   "execution_count": 46,
   "id": "7c3b13bd",
   "metadata": {},
   "outputs": [
    {
     "name": "stdout",
     "output_type": "stream",
     "text": [
      "训练开始\n",
      "训练结束\n",
      "训练集精确度:{0.9557}     测试集精确度:{0.9188}    \n",
      "\n",
      "predict_proba 训练集auc:{0.9771}  训练集auc:{0.7184}\n",
      "\n",
      "classification_report:\n",
      "              precision    recall  f1-score   support\n",
      "\n",
      "           0       0.92      1.00      0.96     56523\n",
      "           1       0.41      0.01      0.01      4979\n",
      "\n",
      "    accuracy                           0.92     61502\n",
      "   macro avg       0.66      0.50      0.48     61502\n",
      "weighted avg       0.88      0.92      0.88     61502\n",
      "\n",
      "gbm 的KS:{0.3179}\n"
     ]
    }
   ],
   "source": [
    "gbm7 = lightgbm(X_train, y_train, X_test, y_test)"
   ]
  },
  {
   "cell_type": "markdown",
   "id": "0dd2a986",
   "metadata": {},
   "source": [
    "# 综合采样"
   ]
  },
  {
   "cell_type": "code",
   "execution_count": 47,
   "id": "bd31fe18",
   "metadata": {},
   "outputs": [
    {
     "data": {
      "text/plain": [
       "SMOTETomek(random_state=42)"
      ]
     },
     "execution_count": 47,
     "metadata": {},
     "output_type": "execute_result"
    }
   ],
   "source": [
    "train_smt, test_smt = split_train(data,0.2)\n",
    "# ex_test = test_smt.sample(frac=0.20, axis = 0)\n",
    "# train_smt_l = train_smt.iloc[ex_test.shape[0]:train_smt.shape[0], :]\n",
    "# train_smt = pd.concat([train_smt_l, ex_test])\n",
    "\n",
    "train_app_x = train_smt.drop(['TARGET','SK_ID_CURR'],axis = 1)\n",
    "train_app_y = train_smt.loc[:,['TARGET']].values\n",
    "\n",
    "\n",
    "X_train = preprocessor.transform(train_app_x[features])\n",
    "y_train = train_app_y\n",
    "\n",
    "\n",
    "smt = SMOTETomek(random_state=42)\n",
    "smt.fit(X_train, y_train)"
   ]
  },
  {
   "cell_type": "code",
   "execution_count": 59,
   "id": "a1011299",
   "metadata": {},
   "outputs": [
    {
     "name": "stdout",
     "output_type": "stream",
     "text": [
      "Original dataset shape Counter({0: 226163, 1: 19846})\n",
      "SMOTE + Tomek links dataset shape Counter({0: 226174, 1: 226174})\n"
     ]
    }
   ],
   "source": [
    "print('Original dataset shape %s' % Counter(train_app[\"TARGET\"]))\n",
    "X_train, y_train = smt.fit_resample(X_train, y_train)\n",
    "test = y_train.reshape(y_train.shape[0],)\n",
    "\n",
    "print('SMOTE + Tomek links dataset shape %s' % Counter(test))"
   ]
  },
  {
   "cell_type": "code",
   "execution_count": 60,
   "id": "bc4cfd94",
   "metadata": {},
   "outputs": [
    {
     "name": "stdout",
     "output_type": "stream",
     "text": [
      "训练开始\n",
      "训练结束\n",
      "训练集精确度:{0.9555}     测试集精确度:{0.9191}    \n",
      "\n",
      "predict_proba 训练集auc:{0.9773}  训练集auc:{0.7373}\n",
      "\n",
      "classification_report:\n",
      "              precision    recall  f1-score   support\n",
      "\n",
      "           0       0.92      1.00      0.96     56523\n",
      "           1       0.51      0.01      0.01      4979\n",
      "\n",
      "    accuracy                           0.92     61502\n",
      "   macro avg       0.71      0.50      0.49     61502\n",
      "weighted avg       0.89      0.92      0.88     61502\n",
      "\n",
      "gbm 的KS:{0.3479}\n"
     ]
    }
   ],
   "source": [
    "gbm8 = lightgbm(X_train, y_train, X_test, y_test)"
   ]
  },
  {
   "cell_type": "code",
   "execution_count": 61,
   "id": "aca3d737",
   "metadata": {},
   "outputs": [
    {
     "data": {
      "text/plain": [
       "<Figure size 1296x576 with 0 Axes>"
      ]
     },
     "metadata": {},
     "output_type": "display_data"
    },
    {
     "data": {
      "image/png": "[encoded data removed]",
      "text/plain": [
       "<Figure size 432x288 with 1 Axes>"
      ]
     },
     "metadata": {
      "needs_background": "light"
     },
     "output_type": "display_data"
    }
   ],
   "source": [
    "plt.figure(figsize=(18,8))\n",
    "fig, ax = plt.subplots()\n",
    "gbm1_disp = plot_roc_curve(gbm1, X_test, y_test,ax = ax, name = \"original_data\")\n",
    "gbm2_disp = plot_roc_curve(gbm2, X_test, y_test,ax = ax, name = \"random_undersampling\")\n",
    "gbm3_disp = plot_roc_curve(gbm3, X_test, y_test,ax = ax, name = \"Tomek links\")\n",
    "gbm4_disp = plot_roc_curve(gbm4, X_test, y_test,ax = ax,name = \"cnn\")\n",
    "gbm5_disp = plot_roc_curve(gbm5, X_test, y_test,ax= ax,name = \"enn\")\n",
    "gbm6_disp = plot_roc_curve(gbm6, X_test, y_test,ax= ax,name = \"random_oversampling\")\n",
    "gbm7_disp = plot_roc_curve(gbm7, X_test, y_test,ax= ax,name = \"SMOTE\")\n",
    "gbm8_disp = plot_roc_curve(gbm8, X_test, y_test,ax= ax,name = \"SMOTETomek\")\n",
    "\n",
    "ax.plot([0, 1], [0, 1], linestyle='--', color='r')\n",
    "plt.subplots_adjust( right=2, top = 2)\n",
    "plt.show()"
   ]
  },
  {
   "cell_type": "code",
   "execution_count": null,
   "id": "ae3c3de0",
   "metadata": {},
   "outputs": [],
   "source": []
  },
  {
   "cell_type": "code",
   "execution_count": null,
   "id": "79814e49",
   "metadata": {},
   "outputs": [],
   "source": []
  },
  {
   "cell_type": "code",
   "execution_count": null,
   "id": "dd567df3",
   "metadata": {},
   "outputs": [],
   "source": []
  },
  {
   "cell_type": "code",
   "execution_count": null,
   "id": "02fc7660",
   "metadata": {},
   "outputs": [],
   "source": []
  }
 ],
 "metadata": {
  "kernelspec": {
   "display_name": "Python 3 (ipykernel)",
   "language": "python",
   "name": "python3"
  },
  "language_info": {
   "codemirror_mode": {
    "name": "ipython",
    "version": 3
   },
   "file_extension": ".py",
   "mimetype": "text/x-python",
   "name": "python",
   "nbconvert_exporter": "python",
   "pygments_lexer": "ipython3",
   "version": "3.9.7"
  }
 },
 "nbformat": 4,
 "nbformat_minor": 5
}
